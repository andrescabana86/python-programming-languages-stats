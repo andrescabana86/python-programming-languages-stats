{
 "cells": [
  {
   "cell_type": "code",
   "execution_count": 36,
   "id": "06fdcdc5",
   "metadata": {},
   "outputs": [],
   "source": [
    "import pandas as pd\n",
    "import matplotlib.pyplot as plt"
   ]
  },
  {
   "cell_type": "code",
   "execution_count": 37,
   "id": "1721ba7b",
   "metadata": {},
   "outputs": [],
   "source": [
    "# read from json files\n",
    "issues = pd.read_json(\"./data/gh-issue-event.json\")"
   ]
  },
  {
   "cell_type": "code",
   "execution_count": 38,
   "id": "1813d37c",
   "metadata": {},
   "outputs": [
    {
     "data": {
      "text/html": [
       "<div>\n",
       "<style scoped>\n",
       "    .dataframe tbody tr th:only-of-type {\n",
       "        vertical-align: middle;\n",
       "    }\n",
       "\n",
       "    .dataframe tbody tr th {\n",
       "        vertical-align: top;\n",
       "    }\n",
       "\n",
       "    .dataframe thead th {\n",
       "        text-align: right;\n",
       "    }\n",
       "</style>\n",
       "<table border=\"1\" class=\"dataframe\">\n",
       "  <thead>\n",
       "    <tr style=\"text-align: right;\">\n",
       "      <th></th>\n",
       "      <th>name</th>\n",
       "      <th>year</th>\n",
       "      <th>quarter</th>\n",
       "      <th>count</th>\n",
       "    </tr>\n",
       "  </thead>\n",
       "  <tbody>\n",
       "    <tr>\n",
       "      <th>0</th>\n",
       "      <td>JavaScript</td>\n",
       "      <td>2012</td>\n",
       "      <td>2</td>\n",
       "      <td>29168</td>\n",
       "    </tr>\n",
       "    <tr>\n",
       "      <th>1</th>\n",
       "      <td>Ruby</td>\n",
       "      <td>2012</td>\n",
       "      <td>2</td>\n",
       "      <td>21053</td>\n",
       "    </tr>\n",
       "    <tr>\n",
       "      <th>2</th>\n",
       "      <td>Python</td>\n",
       "      <td>2012</td>\n",
       "      <td>2</td>\n",
       "      <td>20940</td>\n",
       "    </tr>\n",
       "    <tr>\n",
       "      <th>3</th>\n",
       "      <td>PHP</td>\n",
       "      <td>2012</td>\n",
       "      <td>2</td>\n",
       "      <td>13371</td>\n",
       "    </tr>\n",
       "    <tr>\n",
       "      <th>4</th>\n",
       "      <td>Java</td>\n",
       "      <td>2012</td>\n",
       "      <td>2</td>\n",
       "      <td>12817</td>\n",
       "    </tr>\n",
       "  </tbody>\n",
       "</table>\n",
       "</div>"
      ],
      "text/plain": [
       "         name  year  quarter  count\n",
       "0  JavaScript  2012        2  29168\n",
       "1        Ruby  2012        2  21053\n",
       "2      Python  2012        2  20940\n",
       "3         PHP  2012        2  13371\n",
       "4        Java  2012        2  12817"
      ]
     },
     "execution_count": 38,
     "metadata": {},
     "output_type": "execute_result"
    }
   ],
   "source": [
    "# show heads, that helps determine how is data structured\n",
    "issues.head()"
   ]
  },
  {
   "cell_type": "code",
   "execution_count": 39,
   "id": "3122c716",
   "metadata": {},
   "outputs": [
    {
     "data": {
      "text/plain": [
       "(3340, 4)"
      ]
     },
     "execution_count": 39,
     "metadata": {},
     "output_type": "execute_result"
    }
   ],
   "source": [
    "# shape: tuple of (ENTRIES, COLUMNS)\n",
    "issues.shape"
   ]
  },
  {
   "cell_type": "code",
   "execution_count": 128,
   "id": "a4c8e9c7",
   "metadata": {},
   "outputs": [],
   "source": [
    "# There are too many entries, let's filter a little bit\n",
    "# I have to create some helper functions\n",
    "def get_data_from_dataframe(dataframe, loc):\n",
    "    return dataframe \\\n",
    "            .loc[dataframe.name==loc] \\\n",
    "            .sort_values(by=['year', 'count'], ascending=False) \\\n",
    "            .drop_duplicates(keep=\"first\", subset=[\"name\",\"year\"])\n",
    "        \n",
    "\n",
    "javascript = get_data_from_dataframe(dataframe=issues, loc=\"JavaScript\")\n",
    "rust = get_data_from_dataframe(dataframe=issues, loc=\"Rust\")\n",
    "python = get_data_from_dataframe(dataframe=issues, loc=\"Python\")"
   ]
  },
  {
   "cell_type": "code",
   "execution_count": 129,
   "id": "c4200dda",
   "metadata": {},
   "outputs": [
    {
     "data": {
      "text/html": [
       "<div>\n",
       "<style scoped>\n",
       "    .dataframe tbody tr th:only-of-type {\n",
       "        vertical-align: middle;\n",
       "    }\n",
       "\n",
       "    .dataframe tbody tr th {\n",
       "        vertical-align: top;\n",
       "    }\n",
       "\n",
       "    .dataframe thead th {\n",
       "        text-align: right;\n",
       "    }\n",
       "</style>\n",
       "<table border=\"1\" class=\"dataframe\">\n",
       "  <thead>\n",
       "    <tr style=\"text-align: right;\">\n",
       "      <th></th>\n",
       "      <th>name</th>\n",
       "      <th>year</th>\n",
       "      <th>quarter</th>\n",
       "      <th>count</th>\n",
       "    </tr>\n",
       "  </thead>\n",
       "  <tbody>\n",
       "    <tr>\n",
       "      <th>3123</th>\n",
       "      <td>Python</td>\n",
       "      <td>2022</td>\n",
       "      <td>1</td>\n",
       "      <td>76748</td>\n",
       "    </tr>\n",
       "    <tr>\n",
       "      <th>2853</th>\n",
       "      <td>Python</td>\n",
       "      <td>2021</td>\n",
       "      <td>1</td>\n",
       "      <td>92828</td>\n",
       "    </tr>\n",
       "    <tr>\n",
       "      <th>2618</th>\n",
       "      <td>Python</td>\n",
       "      <td>2020</td>\n",
       "      <td>2</td>\n",
       "      <td>118232</td>\n",
       "    </tr>\n",
       "    <tr>\n",
       "      <th>2227</th>\n",
       "      <td>Python</td>\n",
       "      <td>2019</td>\n",
       "      <td>1</td>\n",
       "      <td>121095</td>\n",
       "    </tr>\n",
       "    <tr>\n",
       "      <th>1879</th>\n",
       "      <td>Python</td>\n",
       "      <td>2018</td>\n",
       "      <td>1</td>\n",
       "      <td>155241</td>\n",
       "    </tr>\n",
       "    <tr>\n",
       "      <th>1569</th>\n",
       "      <td>Python</td>\n",
       "      <td>2017</td>\n",
       "      <td>2</td>\n",
       "      <td>192622</td>\n",
       "    </tr>\n",
       "    <tr>\n",
       "      <th>1257</th>\n",
       "      <td>Python</td>\n",
       "      <td>2016</td>\n",
       "      <td>3</td>\n",
       "      <td>172407</td>\n",
       "    </tr>\n",
       "    <tr>\n",
       "      <th>935</th>\n",
       "      <td>Python</td>\n",
       "      <td>2015</td>\n",
       "      <td>4</td>\n",
       "      <td>147092</td>\n",
       "    </tr>\n",
       "    <tr>\n",
       "      <th>488</th>\n",
       "      <td>Python</td>\n",
       "      <td>2014</td>\n",
       "      <td>3</td>\n",
       "      <td>87966</td>\n",
       "    </tr>\n",
       "    <tr>\n",
       "      <th>278</th>\n",
       "      <td>Python</td>\n",
       "      <td>2013</td>\n",
       "      <td>4</td>\n",
       "      <td>55823</td>\n",
       "    </tr>\n",
       "    <tr>\n",
       "      <th>78</th>\n",
       "      <td>Python</td>\n",
       "      <td>2012</td>\n",
       "      <td>4</td>\n",
       "      <td>26929</td>\n",
       "    </tr>\n",
       "  </tbody>\n",
       "</table>\n",
       "</div>"
      ],
      "text/plain": [
       "        name  year  quarter   count\n",
       "3123  Python  2022        1   76748\n",
       "2853  Python  2021        1   92828\n",
       "2618  Python  2020        2  118232\n",
       "2227  Python  2019        1  121095\n",
       "1879  Python  2018        1  155241\n",
       "1569  Python  2017        2  192622\n",
       "1257  Python  2016        3  172407\n",
       "935   Python  2015        4  147092\n",
       "488   Python  2014        3   87966\n",
       "278   Python  2013        4   55823\n",
       "78    Python  2012        4   26929"
      ]
     },
     "execution_count": 129,
     "metadata": {},
     "output_type": "execute_result"
    }
   ],
   "source": [
    "# now I have the data that I need to create a yearly chart\n",
    "# this reflects max usage of each year\n",
    "# I'm excluding quarters average\n",
    "python"
   ]
  },
  {
   "cell_type": "code",
   "execution_count": 149,
   "id": "0cccca25",
   "metadata": {},
   "outputs": [
    {
     "data": {
      "text/plain": [
       "Text(0.5, 1.0, 'Usage of programming languages over the year')"
      ]
     },
     "execution_count": 149,
     "metadata": {},
     "output_type": "execute_result"
    },
    {
     "data": {
      "image/png": "[encoded data removed]",
      "text/plain": [
       "<Figure size 1440x576 with 1 Axes>"
      ]
     },
     "metadata": {
      "needs_background": "light"
     },
     "output_type": "display_data"
    }
   ],
   "source": [
    "# helper function to get list of values\n",
    "def get_axes_data(dataframe):\n",
    "    return [dataframe[\"year\"].tolist(), dataframe[\"count\"].tolist()]\n",
    "\n",
    "# create a figure\n",
    "fig = plt.figure(figsize=(20,8))\n",
    "ax = fig.add_subplot()\n",
    "# use * as spread operator to get values from [...] returned array\n",
    "# add legends\n",
    "ax.plot(*get_axes_data(javascript), color=\"blue\", label=\"JavaScript\")\n",
    "ax.legend(loc=\"upper right\")\n",
    "ax.plot(*get_axes_data(rust), color=\"black\", label=\"Rust\")\n",
    "ax.legend(loc=\"upper right\")\n",
    "ax.plot(*get_axes_data(python), color=\"green\", label=\"Python\")\n",
    "ax.legend(loc=\"upper right\")\n",
    "# set general labels\n",
    "ax.set_xlabel(\"Year\")\n",
    "ax.set_ylabel(\"Submitted issues\")\n",
    "ax.set_title(\"Usage of programming languages over the year\")"
   ]
  },
  {
   "cell_type": "code",
   "execution_count": null,
   "id": "7e1627de",
   "metadata": {},
   "outputs": [],
   "source": []
  }
 ],
 "metadata": {
  "kernelspec": {
   "display_name": "Python 3 (ipykernel)",
   "language": "python",
   "name": "python3"
  },
  "language_info": {
   "codemirror_mode": {
    "name": "ipython",
    "version": 3
   },
   "file_extension": ".py",
   "mimetype": "text/x-python",
   "name": "python",
   "nbconvert_exporter": "python",
   "pygments_lexer": "ipython3",
   "version": "3.9.12"
  }
 },
 "nbformat": 4,
 "nbformat_minor": 5
}
